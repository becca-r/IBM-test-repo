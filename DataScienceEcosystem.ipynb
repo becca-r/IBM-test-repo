{
 "cells": [
  {
   "cell_type": "markdown",
   "id": "fcbfa7f8",
   "metadata": {},
   "source": [
    "# Data Science Tools and Ecosystem"
   ]
  },
  {
   "cell_type": "markdown",
   "id": "36932b49",
   "metadata": {},
   "source": [
    "## Author\n",
    "Becca R\n",
    "\n",
    "Thank you for reviewing my work. I wish you good luck on your data science journey!"
   ]
  },
  {
   "cell_type": "markdown",
   "id": "ba33d893",
   "metadata": {},
   "source": [
    "In this notebook, Data Science Tools and Ecosystem are summarized."
   ]
  },
  {
   "cell_type": "markdown",
   "id": "a5371676",
   "metadata": {},
   "source": [
    "**Objectives**\n",
    "* List popular languages for Data Science\n",
    "* List commonly used libraries\n",
    "* List commonly used tools\n",
    "* Perform arithmetic expressions"
   ]
  },
  {
   "cell_type": "markdown",
   "id": "232f9765",
   "metadata": {},
   "source": [
    "Some of the popular languages that Data Scientists use are:\n",
    "1. SQL\n",
    "2. Python\n",
    "3. R"
   ]
  },
  {
   "cell_type": "markdown",
   "id": "eb09c602",
   "metadata": {},
   "source": [
    "Some of the commonly used libraries used by Data Scientists include:\n",
    "1. pandas\n",
    "2. NumPy\n",
    "3. scikit-learn (sklearn)"
   ]
  },
  {
   "cell_type": "markdown",
   "id": "66422b99",
   "metadata": {},
   "source": [
    "| Data Science Tools |\n",
    "| ------------------ |\n",
    "| Virtual Studio Code (VSCode)|\n",
    "| Gitlab |\n",
    "| RStudio |"
   ]
  },
  {
   "cell_type": "markdown",
   "id": "513e78cf",
   "metadata": {},
   "source": [
    "### Below are a few examples of evaluating arithmetic expressions in Python"
   ]
  },
  {
   "cell_type": "code",
   "execution_count": 2,
   "id": "80326714",
   "metadata": {},
   "outputs": [
    {
     "data": {
      "text/plain": [
       "17"
      ]
     },
     "execution_count": 2,
     "metadata": {},
     "output_type": "execute_result"
    }
   ],
   "source": [
    "# This is a simple arithmetic expression to multiply then add integers\n",
    "(3 * 4) + 5"
   ]
  },
  {
   "cell_type": "code",
   "execution_count": 3,
   "id": "a2b6137a",
   "metadata": {},
   "outputs": [
    {
     "data": {
      "text/plain": [
       "3.3333333333333335"
      ]
     },
     "execution_count": 3,
     "metadata": {},
     "output_type": "execute_result"
    }
   ],
   "source": [
    "# This will convert 200 minutes to hours by dividing by 60\n",
    "200 / 60"
   ]
  },
  {
   "cell_type": "markdown",
   "id": "3ed02f7f",
   "metadata": {},
   "source": []
  }
 ],
 "metadata": {
  "kernelspec": {
   "display_name": "Python 3 (ipykernel)",
   "language": "python",
   "name": "python3"
  },
  "language_info": {
   "codemirror_mode": {
    "name": "ipython",
    "version": 3
   },
   "file_extension": ".py",
   "mimetype": "text/x-python",
   "name": "python",
   "nbconvert_exporter": "python",
   "pygments_lexer": "ipython3",
   "version": "3.10.9"
  }
 },
 "nbformat": 4,
 "nbformat_minor": 5
}
